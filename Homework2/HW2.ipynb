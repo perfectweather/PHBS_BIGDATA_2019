{
 "cells": [
  {
   "cell_type": "code",
   "execution_count": 210,
   "metadata": {},
   "outputs": [
    {
     "data": {
      "text/html": [
       "<div>\n",
       "<style scoped>\n",
       "    .dataframe tbody tr th:only-of-type {\n",
       "        vertical-align: middle;\n",
       "    }\n",
       "\n",
       "    .dataframe tbody tr th {\n",
       "        vertical-align: top;\n",
       "    }\n",
       "\n",
       "    .dataframe thead th {\n",
       "        text-align: right;\n",
       "    }\n",
       "</style>\n",
       "<table border=\"1\" class=\"dataframe\">\n",
       "  <thead>\n",
       "    <tr style=\"text-align: right;\">\n",
       "      <th></th>\n",
       "      <th>Year</th>\n",
       "      <th>Month</th>\n",
       "      <th>MEI</th>\n",
       "      <th>CO2</th>\n",
       "      <th>CH4</th>\n",
       "      <th>N2O</th>\n",
       "      <th>CFC-11</th>\n",
       "      <th>CFC-12</th>\n",
       "      <th>TSI</th>\n",
       "      <th>Aerosols</th>\n",
       "      <th>Temp</th>\n",
       "    </tr>\n",
       "  </thead>\n",
       "  <tbody>\n",
       "    <tr>\n",
       "      <th>0</th>\n",
       "      <td>1983</td>\n",
       "      <td>5</td>\n",
       "      <td>2.556</td>\n",
       "      <td>345.96</td>\n",
       "      <td>1638.59</td>\n",
       "      <td>303.677</td>\n",
       "      <td>191.324</td>\n",
       "      <td>350.113</td>\n",
       "      <td>1366.1024</td>\n",
       "      <td>0.0863</td>\n",
       "      <td>0.109</td>\n",
       "    </tr>\n",
       "    <tr>\n",
       "      <th>1</th>\n",
       "      <td>1983</td>\n",
       "      <td>6</td>\n",
       "      <td>2.167</td>\n",
       "      <td>345.52</td>\n",
       "      <td>1633.71</td>\n",
       "      <td>303.746</td>\n",
       "      <td>192.057</td>\n",
       "      <td>351.848</td>\n",
       "      <td>1366.1208</td>\n",
       "      <td>0.0794</td>\n",
       "      <td>0.118</td>\n",
       "    </tr>\n",
       "    <tr>\n",
       "      <th>2</th>\n",
       "      <td>1983</td>\n",
       "      <td>7</td>\n",
       "      <td>1.741</td>\n",
       "      <td>344.15</td>\n",
       "      <td>1633.22</td>\n",
       "      <td>303.795</td>\n",
       "      <td>192.818</td>\n",
       "      <td>353.725</td>\n",
       "      <td>1366.2850</td>\n",
       "      <td>0.0731</td>\n",
       "      <td>0.137</td>\n",
       "    </tr>\n",
       "    <tr>\n",
       "      <th>3</th>\n",
       "      <td>1983</td>\n",
       "      <td>8</td>\n",
       "      <td>1.130</td>\n",
       "      <td>342.25</td>\n",
       "      <td>1631.35</td>\n",
       "      <td>303.839</td>\n",
       "      <td>193.602</td>\n",
       "      <td>355.633</td>\n",
       "      <td>1366.4202</td>\n",
       "      <td>0.0673</td>\n",
       "      <td>0.176</td>\n",
       "    </tr>\n",
       "    <tr>\n",
       "      <th>4</th>\n",
       "      <td>1983</td>\n",
       "      <td>9</td>\n",
       "      <td>0.428</td>\n",
       "      <td>340.17</td>\n",
       "      <td>1648.40</td>\n",
       "      <td>303.901</td>\n",
       "      <td>194.392</td>\n",
       "      <td>357.465</td>\n",
       "      <td>1366.2335</td>\n",
       "      <td>0.0619</td>\n",
       "      <td>0.149</td>\n",
       "    </tr>\n",
       "  </tbody>\n",
       "</table>\n",
       "</div>"
      ],
      "text/plain": [
       "   Year  Month    MEI     CO2      CH4      N2O   CFC-11   CFC-12        TSI  \\\n",
       "0  1983      5  2.556  345.96  1638.59  303.677  191.324  350.113  1366.1024   \n",
       "1  1983      6  2.167  345.52  1633.71  303.746  192.057  351.848  1366.1208   \n",
       "2  1983      7  1.741  344.15  1633.22  303.795  192.818  353.725  1366.2850   \n",
       "3  1983      8  1.130  342.25  1631.35  303.839  193.602  355.633  1366.4202   \n",
       "4  1983      9  0.428  340.17  1648.40  303.901  194.392  357.465  1366.2335   \n",
       "\n",
       "   Aerosols   Temp  \n",
       "0    0.0863  0.109  \n",
       "1    0.0794  0.118  \n",
       "2    0.0731  0.137  \n",
       "3    0.0673  0.176  \n",
       "4    0.0619  0.149  "
      ]
     },
     "execution_count": 210,
     "metadata": {},
     "output_type": "execute_result"
    }
   ],
   "source": [
    "import numpy as np\n",
    "import pandas as pd\n",
    "from sklearn.linear_model import LinearRegression\n",
    "from scipy import stats\n",
    "import statsmodels.api as sm\n",
    "from sklearn.linear_model import RidgeCV\n",
    "from sklearn.metrics import r2_score\n",
    "cc1 = pd.read_csv(\"climate_change_1.csv\")\n",
    "cc1_train = cc1[cc1.Year <= 2006]\n",
    "cc1_test = cc1[cc1.Year > 2006]\n",
    "cc1.head()\n"
   ]
  },
  {
   "cell_type": "markdown",
   "metadata": {},
   "source": [
    "# Problem1"
   ]
  },
  {
   "cell_type": "markdown",
   "metadata": {},
   "source": [
    "## 1.1"
   ]
  },
  {
   "cell_type": "code",
   "execution_count": 211,
   "metadata": {},
   "outputs": [],
   "source": [
    "def closed_form_1(x,y):\n",
    "    return np.linalg.inv(x.T @ x) @ (x.T @ y)"
   ]
  },
  {
   "cell_type": "code",
   "execution_count": 212,
   "metadata": {},
   "outputs": [
    {
     "data": {
      "text/html": [
       "<div>\n",
       "<style scoped>\n",
       "    .dataframe tbody tr th:only-of-type {\n",
       "        vertical-align: middle;\n",
       "    }\n",
       "\n",
       "    .dataframe tbody tr th {\n",
       "        vertical-align: top;\n",
       "    }\n",
       "\n",
       "    .dataframe thead th {\n",
       "        text-align: right;\n",
       "    }\n",
       "</style>\n",
       "<table border=\"1\" class=\"dataframe\">\n",
       "  <thead>\n",
       "    <tr style=\"text-align: right;\">\n",
       "      <th></th>\n",
       "      <th>coefficient</th>\n",
       "    </tr>\n",
       "  </thead>\n",
       "  <tbody>\n",
       "    <tr>\n",
       "      <th>MEI</th>\n",
       "      <td>0.064205</td>\n",
       "    </tr>\n",
       "    <tr>\n",
       "      <th>CO2</th>\n",
       "      <td>0.006457</td>\n",
       "    </tr>\n",
       "    <tr>\n",
       "      <th>CH4</th>\n",
       "      <td>0.000124</td>\n",
       "    </tr>\n",
       "    <tr>\n",
       "      <th>N2O</th>\n",
       "      <td>-0.016528</td>\n",
       "    </tr>\n",
       "    <tr>\n",
       "      <th>CFC-11</th>\n",
       "      <td>-0.006630</td>\n",
       "    </tr>\n",
       "    <tr>\n",
       "      <th>CFC-12</th>\n",
       "      <td>0.003808</td>\n",
       "    </tr>\n",
       "    <tr>\n",
       "      <th>TSI</th>\n",
       "      <td>0.093141</td>\n",
       "    </tr>\n",
       "    <tr>\n",
       "      <th>Aerosols</th>\n",
       "      <td>-1.537613</td>\n",
       "    </tr>\n",
       "    <tr>\n",
       "      <th>constant</th>\n",
       "      <td>-124.594262</td>\n",
       "    </tr>\n",
       "  </tbody>\n",
       "</table>\n",
       "</div>"
      ],
      "text/plain": [
       "          coefficient\n",
       "MEI          0.064205\n",
       "CO2          0.006457\n",
       "CH4          0.000124\n",
       "N2O         -0.016528\n",
       "CFC-11      -0.006630\n",
       "CFC-12       0.003808\n",
       "TSI          0.093141\n",
       "Aerosols    -1.537613\n",
       "constant  -124.594262"
      ]
     },
     "execution_count": 212,
     "metadata": {},
     "output_type": "execute_result"
    }
   ],
   "source": [
    "x_train = cc1_train[[\"MEI\",\"CO2\",\"CH4\",\"N2O\",\"CFC-11\",\"CFC-12\",\"TSI\",\"Aerosols\"]]\n",
    "x_train_withc = x_train.copy()\n",
    "x_train_withc[\"constant\"] = 1\n",
    "x_train_withc = x_train_withc.values\n",
    "#x_train = x_train.values\n",
    "y_train = cc1_train[\"Temp\"].values\n",
    "theta1 = closed_form_1(x_train_withc,y_train) \n",
    "theta1_pd = pd.DataFrame(theta1)\n",
    "theta1_pd.columns=[\"coefficient\"]\n",
    "theta1_pd.index=[\"MEI\",\"CO2\",\"CH4\",\"N2O\",\"CFC-11\",\"CFC-12\",\"TSI\",\"Aerosols\",\"constant\"]\n",
    "theta1_pd"
   ]
  },
  {
   "cell_type": "markdown",
   "metadata": {},
   "source": [
    "## 1.2"
   ]
  },
  {
   "cell_type": "markdown",
   "metadata": {},
   "source": [
    "The mathematical formula for the linear model is:\n",
    "\\begin{equation}\n",
    "y_i = \\beta_0 + \\beta_1 x_{i1} +\\beta_2 x_{i2}+……+\\beta_n x_{in}+ \\epsilon\n",
    "\\end{equation}\n",
    "where i is the index of samples\n",
    "\n",
    "$x_i$ is the expanatory variables\n",
    "\n",
    "$y_i$ is the dependent variables\n",
    "\n",
    "$\\beta_0$ is y intercept\n",
    "\n",
    "$\\beta_i$ is coefficients for expanatory variables\n",
    "\n",
    "$\\epsilon$ is error term\n",
    "\n",
    "And $R^2$ of traning set is 0.751 and $R^2$ of test set is 0.184\n",
    "In this problem, \n",
    "\\begin{equation}\n",
    "Temp = 0.064205*MEI+0.006457*CO2+0.000124*CH4+(-0.016528)*N2O+(-0.006630)*CFC-11+0.003808*CFC-12+0.093141*TSI+(-1.537613)*Aerosols-124.594262 + \\epsilon\n",
    "\\end{equation}"
   ]
  },
  {
   "cell_type": "code",
   "execution_count": 213,
   "metadata": {},
   "outputs": [],
   "source": [
    "def r_square(x,y,theta):\n",
    "    yhat = x @ theta\n",
    "    ybar = np.mean(y) # 求均值\n",
    "    #ssreg = np.sum((yhat - ybar)**2)\n",
    "    sse = np.sum((yhat - y)**2)\n",
    "    sst = np.sum((y - ybar)**2)\n",
    "    return 1 - sse / sst"
   ]
  },
  {
   "cell_type": "code",
   "execution_count": 214,
   "metadata": {},
   "outputs": [
    {
     "name": "stdout",
     "output_type": "stream",
     "text": [
      "r square of train set id 0.7508932770523432\n"
     ]
    }
   ],
   "source": [
    "r_square_train = r_square(x_train_withc, y_train, theta1)\n",
    "print(\"r square of train set id {}\".format(r_square_train))"
   ]
  },
  {
   "cell_type": "code",
   "execution_count": 215,
   "metadata": {},
   "outputs": [],
   "source": [
    "x_test = cc1_test[[\"MEI\",\"CO2\",\"CH4\",\"N2O\",\"CFC-11\",\"CFC-12\",\"TSI\",\"Aerosols\"]]\n",
    "x_test_withc = x_test.copy()\n",
    "x_test_withc[\"constant\"] = 1\n",
    "x_test_withc = x_test_withc.values\n",
    "y_test = cc1_test[\"Temp\"].values"
   ]
  },
  {
   "cell_type": "code",
   "execution_count": 216,
   "metadata": {},
   "outputs": [
    {
     "name": "stdout",
     "output_type": "stream",
     "text": [
      "r square of test set is 0.18377835441261303\n"
     ]
    }
   ],
   "source": [
    "r_square_test = r_square(x_test_withc, y_test, theta1)\n",
    "print(\"r square of test set is {}\".format(r_square_test))"
   ]
  },
  {
   "cell_type": "markdown",
   "metadata": {},
   "source": [
    "## 1.3"
   ]
  },
  {
   "cell_type": "markdown",
   "metadata": {},
   "source": [
    "use $H_0 : \\beta_i = 0$ and $H_1 : \\beta_i \\not= 0$， here p_values include both sides of distribution\n",
    "If we choose $\\alpha$ = 0.05, then CH4 and N2O is not significant, MEI, CO2"
   ]
  },
  {
   "cell_type": "code",
   "execution_count": 217,
   "metadata": {},
   "outputs": [
    {
     "data": {
      "text/html": [
       "<div>\n",
       "<style scoped>\n",
       "    .dataframe tbody tr th:only-of-type {\n",
       "        vertical-align: middle;\n",
       "    }\n",
       "\n",
       "    .dataframe tbody tr th {\n",
       "        vertical-align: top;\n",
       "    }\n",
       "\n",
       "    .dataframe thead th {\n",
       "        text-align: right;\n",
       "    }\n",
       "</style>\n",
       "<table border=\"1\" class=\"dataframe\">\n",
       "  <thead>\n",
       "    <tr style=\"text-align: right;\">\n",
       "      <th></th>\n",
       "      <th>p value</th>\n",
       "      <th>t statistic</th>\n",
       "    </tr>\n",
       "  </thead>\n",
       "  <tbody>\n",
       "    <tr>\n",
       "      <th>MEI</th>\n",
       "      <td>0.000000e+00</td>\n",
       "      <td>9.923226</td>\n",
       "    </tr>\n",
       "    <tr>\n",
       "      <th>CO2</th>\n",
       "      <td>5.042595e-03</td>\n",
       "      <td>2.826420</td>\n",
       "    </tr>\n",
       "    <tr>\n",
       "      <th>CH4</th>\n",
       "      <td>8.101405e-01</td>\n",
       "      <td>0.240469</td>\n",
       "    </tr>\n",
       "    <tr>\n",
       "      <th>N2O</th>\n",
       "      <td>5.464020e-02</td>\n",
       "      <td>-1.929726</td>\n",
       "    </tr>\n",
       "    <tr>\n",
       "      <th>CFC-11</th>\n",
       "      <td>5.913566e-05</td>\n",
       "      <td>-4.077834</td>\n",
       "    </tr>\n",
       "    <tr>\n",
       "      <th>CFC-12</th>\n",
       "      <td>2.085760e-04</td>\n",
       "      <td>3.757293</td>\n",
       "    </tr>\n",
       "    <tr>\n",
       "      <th>TSI</th>\n",
       "      <td>1.057310e-09</td>\n",
       "      <td>6.312561</td>\n",
       "    </tr>\n",
       "    <tr>\n",
       "      <th>Aerosols</th>\n",
       "      <td>5.109246e-12</td>\n",
       "      <td>-7.210301</td>\n",
       "    </tr>\n",
       "    <tr>\n",
       "      <th>constant</th>\n",
       "      <td>1.381915e-09</td>\n",
       "      <td>-6.265174</td>\n",
       "    </tr>\n",
       "  </tbody>\n",
       "</table>\n",
       "</div>"
      ],
      "text/plain": [
       "               p value  t statistic\n",
       "MEI       0.000000e+00     9.923226\n",
       "CO2       5.042595e-03     2.826420\n",
       "CH4       8.101405e-01     0.240469\n",
       "N2O       5.464020e-02    -1.929726\n",
       "CFC-11    5.913566e-05    -4.077834\n",
       "CFC-12    2.085760e-04     3.757293\n",
       "TSI       1.057310e-09     6.312561\n",
       "Aerosols  5.109246e-12    -7.210301\n",
       "constant  1.381915e-09    -6.265174"
      ]
     },
     "execution_count": 217,
     "metadata": {},
     "output_type": "execute_result"
    }
   ],
   "source": [
    "y_train_predict = x_train_withc @ theta1\n",
    "MSE = (sum((y_train-y_train_predict)**2))/(len(x_train_withc)- np.shape(x_train_withc)[1])\n",
    "var_b = MSE * (np.linalg.inv(np.dot(x_train_withc.T,x_train_withc)).diagonal())\n",
    "svar_b = np.sqrt(var_b)\n",
    "ts_b = theta1/ svar_b\n",
    "p_values =[2*(1-stats.t.cdf(np.abs(i),(len(x_train_withc)-1))) for i in ts_b]\n",
    "result = pd.DataFrame()\n",
    "result[\"p value\"] = p_values\n",
    "result[\"t statistic\"] = ts_b\n",
    "result.index=[\"MEI\",\"CO2\",\"CH4\",\"N2O\",\"CFC-11\",\"CFC-12\",\"TSI\",\"Aerosols\",\"constant\"]\n",
    "result"
   ]
  },
  {
   "cell_type": "code",
   "execution_count": 218,
   "metadata": {},
   "outputs": [
    {
     "data": {
      "text/html": [
       "<div>\n",
       "<style scoped>\n",
       "    .dataframe tbody tr th:only-of-type {\n",
       "        vertical-align: middle;\n",
       "    }\n",
       "\n",
       "    .dataframe tbody tr th {\n",
       "        vertical-align: top;\n",
       "    }\n",
       "\n",
       "    .dataframe thead th {\n",
       "        text-align: right;\n",
       "    }\n",
       "</style>\n",
       "<table border=\"1\" class=\"dataframe\">\n",
       "  <thead>\n",
       "    <tr style=\"text-align: right;\">\n",
       "      <th></th>\n",
       "      <th>Year</th>\n",
       "      <th>Month</th>\n",
       "      <th>MEI</th>\n",
       "      <th>CO2</th>\n",
       "      <th>CH4</th>\n",
       "      <th>N2O</th>\n",
       "      <th>CFC-11</th>\n",
       "      <th>CFC-12</th>\n",
       "      <th>TSI</th>\n",
       "      <th>Aerosols</th>\n",
       "      <th>NO</th>\n",
       "      <th>Temp</th>\n",
       "    </tr>\n",
       "  </thead>\n",
       "  <tbody>\n",
       "    <tr>\n",
       "      <th>0</th>\n",
       "      <td>1983</td>\n",
       "      <td>5</td>\n",
       "      <td>2.556</td>\n",
       "      <td>345.96</td>\n",
       "      <td>1638.59</td>\n",
       "      <td>303.677</td>\n",
       "      <td>191.324</td>\n",
       "      <td>350.113</td>\n",
       "      <td>1366.1024</td>\n",
       "      <td>0.0863</td>\n",
       "      <td>2.63859</td>\n",
       "      <td>0.109</td>\n",
       "    </tr>\n",
       "    <tr>\n",
       "      <th>1</th>\n",
       "      <td>1983</td>\n",
       "      <td>6</td>\n",
       "      <td>2.167</td>\n",
       "      <td>345.52</td>\n",
       "      <td>1633.71</td>\n",
       "      <td>303.746</td>\n",
       "      <td>192.057</td>\n",
       "      <td>351.848</td>\n",
       "      <td>1366.1208</td>\n",
       "      <td>0.0794</td>\n",
       "      <td>2.63371</td>\n",
       "      <td>0.118</td>\n",
       "    </tr>\n",
       "    <tr>\n",
       "      <th>2</th>\n",
       "      <td>1983</td>\n",
       "      <td>7</td>\n",
       "      <td>1.741</td>\n",
       "      <td>344.15</td>\n",
       "      <td>1633.22</td>\n",
       "      <td>303.795</td>\n",
       "      <td>192.818</td>\n",
       "      <td>353.725</td>\n",
       "      <td>1366.2850</td>\n",
       "      <td>0.0731</td>\n",
       "      <td>2.63322</td>\n",
       "      <td>0.137</td>\n",
       "    </tr>\n",
       "    <tr>\n",
       "      <th>3</th>\n",
       "      <td>1983</td>\n",
       "      <td>8</td>\n",
       "      <td>1.130</td>\n",
       "      <td>342.25</td>\n",
       "      <td>1631.35</td>\n",
       "      <td>303.839</td>\n",
       "      <td>193.602</td>\n",
       "      <td>355.633</td>\n",
       "      <td>1366.4202</td>\n",
       "      <td>0.0673</td>\n",
       "      <td>2.63135</td>\n",
       "      <td>0.176</td>\n",
       "    </tr>\n",
       "    <tr>\n",
       "      <th>4</th>\n",
       "      <td>1983</td>\n",
       "      <td>9</td>\n",
       "      <td>0.428</td>\n",
       "      <td>340.17</td>\n",
       "      <td>1648.40</td>\n",
       "      <td>303.901</td>\n",
       "      <td>194.392</td>\n",
       "      <td>357.465</td>\n",
       "      <td>1366.2335</td>\n",
       "      <td>0.0619</td>\n",
       "      <td>2.64840</td>\n",
       "      <td>0.149</td>\n",
       "    </tr>\n",
       "  </tbody>\n",
       "</table>\n",
       "</div>"
      ],
      "text/plain": [
       "   Year  Month    MEI     CO2      CH4      N2O   CFC-11   CFC-12        TSI  \\\n",
       "0  1983      5  2.556  345.96  1638.59  303.677  191.324  350.113  1366.1024   \n",
       "1  1983      6  2.167  345.52  1633.71  303.746  192.057  351.848  1366.1208   \n",
       "2  1983      7  1.741  344.15  1633.22  303.795  192.818  353.725  1366.2850   \n",
       "3  1983      8  1.130  342.25  1631.35  303.839  193.602  355.633  1366.4202   \n",
       "4  1983      9  0.428  340.17  1648.40  303.901  194.392  357.465  1366.2335   \n",
       "\n",
       "   Aerosols       NO   Temp  \n",
       "0    0.0863  2.63859  0.109  \n",
       "1    0.0794  2.63371  0.118  \n",
       "2    0.0731  2.63322  0.137  \n",
       "3    0.0673  2.63135  0.176  \n",
       "4    0.0619  2.64840  0.149  "
      ]
     },
     "execution_count": 218,
     "metadata": {},
     "output_type": "execute_result"
    }
   ],
   "source": [
    "cc2 = pd.read_csv(\"climate_change_2.csv\")\n",
    "cc2_train = cc2[cc2.Year <= 2006]\n",
    "cc2_test = cc2[cc2.Year > 2006]\n",
    "cc2.head()"
   ]
  },
  {
   "cell_type": "markdown",
   "metadata": {},
   "source": [
    "## 1.4"
   ]
  },
  {
   "cell_type": "markdown",
   "metadata": {},
   "source": [
    "The condition is $X^T X$ is invertible. \n",
    "\n",
    "climate_change_2.csv has two variables that are highly corelated： NO and CH4 are highly correlated, the $R^2$ of $CH4 = \\beta_0 + \\beta_1 NO + \\epsilon$ is 1. And one of them are rudundant variables.\n",
    "\n",
    "Then the determinant of $X^T X$ is close to(if one column can be calculated simple linearly（y = a + bx) from another,then equal to 0) 0.In computer calculation, it is easy to have numerical problems. In the process of calculate the invertibility of matrix, the result may bu not exact."
   ]
  },
  {
   "cell_type": "code",
   "execution_count": 219,
   "metadata": {},
   "outputs": [
    {
     "name": "stdout",
     "output_type": "stream",
     "text": [
      "                            OLS Regression Results                            \n",
      "==============================================================================\n",
      "Dep. Variable:                      y   R-squared:                       1.000\n",
      "Model:                            OLS   Adj. R-squared:                  1.000\n",
      "Method:                 Least Squares   F-statistic:                 1.796e+29\n",
      "Date:                Fri, 27 Dec 2019   Prob (F-statistic):               0.00\n",
      "Time:                        21:09:14   Log-Likelihood:                 7876.0\n",
      "No. Observations:                 308   AIC:                        -1.575e+04\n",
      "Df Residuals:                     306   BIC:                        -1.574e+04\n",
      "Df Model:                           1                                         \n",
      "Covariance Type:            nonrobust                                         \n",
      "==============================================================================\n",
      "                 coef    std err          t      P>|t|      [0.025      0.975]\n",
      "------------------------------------------------------------------------------\n",
      "x1          1000.0000   2.36e-12   4.24e+14      0.000    1000.000    1000.000\n",
      "const      -1000.0000   6.49e-12  -1.54e+14      0.000   -1000.000   -1000.000\n",
      "==============================================================================\n",
      "Omnibus:                        2.926   Durbin-Watson:                   0.028\n",
      "Prob(Omnibus):                  0.231   Jarque-Bera (JB):                2.867\n",
      "Skew:                           0.187   Prob(JB):                        0.238\n",
      "Kurtosis:                       2.712   Cond. No.                         186.\n",
      "==============================================================================\n",
      "\n",
      "Warnings:\n",
      "[1] Standard Errors assume that the covariance matrix of the errors is correctly specified.\n"
     ]
    },
    {
     "name": "stderr",
     "output_type": "stream",
     "text": [
      "/anaconda3/lib/python3.6/site-packages/ipykernel_launcher.py:2: SettingWithCopyWarning: \n",
      "A value is trying to be set on a copy of a slice from a DataFrame.\n",
      "Try using .loc[row_indexer,col_indexer] = value instead\n",
      "\n",
      "See the caveats in the documentation: http://pandas.pydata.org/pandas-docs/stable/indexing.html#indexing-view-versus-copy\n",
      "  \n"
     ]
    }
   ],
   "source": [
    "x = cc2[[\"NO\"]]\n",
    "x[\"constant\"] = 1\n",
    "x = x.values\n",
    "y = cc2[\"CH4\"].values\n",
    "import statsmodels.api as sm\n",
    "model = sm.OLS(y,x)\n",
    "results = model.fit()\n",
    "print(results.summary())"
   ]
  },
  {
   "cell_type": "markdown",
   "metadata": {},
   "source": [
    "# Problem 2"
   ]
  },
  {
   "cell_type": "markdown",
   "metadata": {},
   "source": [
    "## 2.1"
   ]
  },
  {
   "cell_type": "markdown",
   "metadata": {},
   "source": [
    "loss function for linear model with L1 regularization:\n",
    "\\begin{equation}\n",
    "\\frac{1}{2m}[\\sum_{i=1}^{m}(\\hat{y}_i-y_i)^2+\\lambda\\sum_{j=1}^{n}\\left|\\theta_j\\right|]\n",
    "\\label{eq:with L1 regularization}\n",
    "\\end{equation}\n",
    "where m is the number of samples, n is the number of explanatory variables\n",
    "\n",
    "\n",
    "loss function for linear model with L2 regularization:\n",
    "\\begin{equation}\n",
    "\\frac{1}{2m}[\\sum_{i=1}^{m}(\\hat{y}_i-y_i)^2+\\lambda\\sum_{j=1}^{n}\\theta_j^2]\n",
    "\\label{eq:with L2 regularization}\n",
    "\\end{equation}\n",
    "where m is the number of samples, n is the number of explanatory variables\n"
   ]
  },
  {
   "cell_type": "markdown",
   "metadata": {},
   "source": [
    "## 2.2"
   ]
  },
  {
   "cell_type": "markdown",
   "metadata": {},
   "source": [
    "Choose Lamda= 0.1"
   ]
  },
  {
   "cell_type": "code",
   "execution_count": 220,
   "metadata": {},
   "outputs": [],
   "source": [
    "def closed_form_2(x,y,lamda):\n",
    "    a = np.identity(np.shape(x)[1])\n",
    "    a[np.shape(x)[1] - 1,np.shape(x)[1] - 1] = 0\n",
    "    return np.linalg.inv(x.T @ x + lamda * a) @ (x.T @ y)"
   ]
  },
  {
   "cell_type": "code",
   "execution_count": 221,
   "metadata": {},
   "outputs": [
    {
     "data": {
      "text/html": [
       "<div>\n",
       "<style scoped>\n",
       "    .dataframe tbody tr th:only-of-type {\n",
       "        vertical-align: middle;\n",
       "    }\n",
       "\n",
       "    .dataframe tbody tr th {\n",
       "        vertical-align: top;\n",
       "    }\n",
       "\n",
       "    .dataframe thead th {\n",
       "        text-align: right;\n",
       "    }\n",
       "</style>\n",
       "<table border=\"1\" class=\"dataframe\">\n",
       "  <thead>\n",
       "    <tr style=\"text-align: right;\">\n",
       "      <th></th>\n",
       "      <th>coefficient_with_L2</th>\n",
       "    </tr>\n",
       "  </thead>\n",
       "  <tbody>\n",
       "    <tr>\n",
       "      <th>MEI</th>\n",
       "      <td>0.058361</td>\n",
       "    </tr>\n",
       "    <tr>\n",
       "      <th>CO2</th>\n",
       "      <td>0.007299</td>\n",
       "    </tr>\n",
       "    <tr>\n",
       "      <th>CH4</th>\n",
       "      <td>0.000189</td>\n",
       "    </tr>\n",
       "    <tr>\n",
       "      <th>N2O</th>\n",
       "      <td>-0.018100</td>\n",
       "    </tr>\n",
       "    <tr>\n",
       "      <th>CFC-11</th>\n",
       "      <td>-0.006900</td>\n",
       "    </tr>\n",
       "    <tr>\n",
       "      <th>CFC-12</th>\n",
       "      <td>0.003886</td>\n",
       "    </tr>\n",
       "    <tr>\n",
       "      <th>TSI</th>\n",
       "      <td>0.087290</td>\n",
       "    </tr>\n",
       "    <tr>\n",
       "      <th>Aerosols</th>\n",
       "      <td>-0.997495</td>\n",
       "    </tr>\n",
       "    <tr>\n",
       "      <th>constant</th>\n",
       "      <td>-116.507105</td>\n",
       "    </tr>\n",
       "  </tbody>\n",
       "</table>\n",
       "</div>"
      ],
      "text/plain": [
       "          coefficient_with_L2\n",
       "MEI                  0.058361\n",
       "CO2                  0.007299\n",
       "CH4                  0.000189\n",
       "N2O                 -0.018100\n",
       "CFC-11              -0.006900\n",
       "CFC-12               0.003886\n",
       "TSI                  0.087290\n",
       "Aerosols            -0.997495\n",
       "constant          -116.507105"
      ]
     },
     "execution_count": 221,
     "metadata": {},
     "output_type": "execute_result"
    }
   ],
   "source": [
    "theta2 = closed_form_2(x_train_withc, y_train, 0.1) \n",
    "theta2_pd = pd.DataFrame(theta2)\n",
    "theta2_pd.columns=[\"coefficient_with_L2\"]\n",
    "theta2_pd.index=[\"MEI\",\"CO2\",\"CH4\",\"N2O\",\"CFC-11\",\"CFC-12\",\"TSI\",\"Aerosols\",\"constant\"]\n",
    "theta2_pd"
   ]
  },
  {
   "cell_type": "markdown",
   "metadata": {},
   "source": [
    "## 2.3"
   ]
  },
  {
   "cell_type": "markdown",
   "metadata": {},
   "source": [
    "The solutions is similar according to theta2_pd_compare. \n",
    "\n",
    "Linear model with L2 regularization is robust since it can  reduce values of parameters and prevent overfitting. And L2 is more sensible to the coefficients while higher absolute value. The generalization of the model is better, so it performs better on the test set. The influence of extreme data in train set is less."
   ]
  },
  {
   "cell_type": "code",
   "execution_count": 222,
   "metadata": {},
   "outputs": [
    {
     "data": {
      "text/html": [
       "<div>\n",
       "<style scoped>\n",
       "    .dataframe tbody tr th:only-of-type {\n",
       "        vertical-align: middle;\n",
       "    }\n",
       "\n",
       "    .dataframe tbody tr th {\n",
       "        vertical-align: top;\n",
       "    }\n",
       "\n",
       "    .dataframe thead th {\n",
       "        text-align: right;\n",
       "    }\n",
       "</style>\n",
       "<table border=\"1\" class=\"dataframe\">\n",
       "  <thead>\n",
       "    <tr style=\"text-align: right;\">\n",
       "      <th></th>\n",
       "      <th>coefficient_with_L2</th>\n",
       "      <th>coefficient_without_L2</th>\n",
       "    </tr>\n",
       "  </thead>\n",
       "  <tbody>\n",
       "    <tr>\n",
       "      <th>MEI</th>\n",
       "      <td>0.058361</td>\n",
       "      <td>0.064205</td>\n",
       "    </tr>\n",
       "    <tr>\n",
       "      <th>CO2</th>\n",
       "      <td>0.007299</td>\n",
       "      <td>0.006457</td>\n",
       "    </tr>\n",
       "    <tr>\n",
       "      <th>CH4</th>\n",
       "      <td>0.000189</td>\n",
       "      <td>0.000124</td>\n",
       "    </tr>\n",
       "    <tr>\n",
       "      <th>N2O</th>\n",
       "      <td>-0.018100</td>\n",
       "      <td>-0.016528</td>\n",
       "    </tr>\n",
       "    <tr>\n",
       "      <th>CFC-11</th>\n",
       "      <td>-0.006900</td>\n",
       "      <td>-0.006630</td>\n",
       "    </tr>\n",
       "    <tr>\n",
       "      <th>CFC-12</th>\n",
       "      <td>0.003886</td>\n",
       "      <td>0.003808</td>\n",
       "    </tr>\n",
       "    <tr>\n",
       "      <th>TSI</th>\n",
       "      <td>0.087290</td>\n",
       "      <td>0.093141</td>\n",
       "    </tr>\n",
       "    <tr>\n",
       "      <th>Aerosols</th>\n",
       "      <td>-0.997495</td>\n",
       "      <td>-1.537613</td>\n",
       "    </tr>\n",
       "    <tr>\n",
       "      <th>constant</th>\n",
       "      <td>-116.507105</td>\n",
       "      <td>-124.594262</td>\n",
       "    </tr>\n",
       "  </tbody>\n",
       "</table>\n",
       "</div>"
      ],
      "text/plain": [
       "          coefficient_with_L2  coefficient_without_L2\n",
       "MEI                  0.058361                0.064205\n",
       "CO2                  0.007299                0.006457\n",
       "CH4                  0.000189                0.000124\n",
       "N2O                 -0.018100               -0.016528\n",
       "CFC-11              -0.006900               -0.006630\n",
       "CFC-12               0.003886                0.003808\n",
       "TSI                  0.087290                0.093141\n",
       "Aerosols            -0.997495               -1.537613\n",
       "constant          -116.507105             -124.594262"
      ]
     },
     "execution_count": 222,
     "metadata": {},
     "output_type": "execute_result"
    }
   ],
   "source": [
    "theta2_pd_compare = theta2_pd.copy()\n",
    "theta2_pd_compare[\"coefficient_without_L2\"] = theta1\n",
    "theta2_pd_compare"
   ]
  },
  {
   "cell_type": "code",
   "execution_count": 223,
   "metadata": {},
   "outputs": [
    {
     "data": {
      "text/html": [
       "<div>\n",
       "<style scoped>\n",
       "    .dataframe tbody tr th:only-of-type {\n",
       "        vertical-align: middle;\n",
       "    }\n",
       "\n",
       "    .dataframe tbody tr th {\n",
       "        vertical-align: top;\n",
       "    }\n",
       "\n",
       "    .dataframe thead th {\n",
       "        text-align: right;\n",
       "    }\n",
       "</style>\n",
       "<table border=\"1\" class=\"dataframe\">\n",
       "  <thead>\n",
       "    <tr style=\"text-align: right;\">\n",
       "      <th></th>\n",
       "      <th>p value</th>\n",
       "      <th>t statistic</th>\n",
       "    </tr>\n",
       "  </thead>\n",
       "  <tbody>\n",
       "    <tr>\n",
       "      <th>MEI</th>\n",
       "      <td>0.000000e+00</td>\n",
       "      <td>9.809468</td>\n",
       "    </tr>\n",
       "    <tr>\n",
       "      <th>CO2</th>\n",
       "      <td>5.561250e-03</td>\n",
       "      <td>2.794018</td>\n",
       "    </tr>\n",
       "    <tr>\n",
       "      <th>CH4</th>\n",
       "      <td>8.122759e-01</td>\n",
       "      <td>0.237713</td>\n",
       "    </tr>\n",
       "    <tr>\n",
       "      <th>N2O</th>\n",
       "      <td>5.745452e-02</td>\n",
       "      <td>-1.907604</td>\n",
       "    </tr>\n",
       "    <tr>\n",
       "      <th>CFC-11</th>\n",
       "      <td>7.143337e-05</td>\n",
       "      <td>-4.031086</td>\n",
       "    </tr>\n",
       "    <tr>\n",
       "      <th>CFC-12</th>\n",
       "      <td>2.455231e-04</td>\n",
       "      <td>3.714220</td>\n",
       "    </tr>\n",
       "    <tr>\n",
       "      <th>TSI</th>\n",
       "      <td>1.590465e-09</td>\n",
       "      <td>6.240195</td>\n",
       "    </tr>\n",
       "    <tr>\n",
       "      <th>Aerosols</th>\n",
       "      <td>8.515411e-12</td>\n",
       "      <td>-7.127643</td>\n",
       "    </tr>\n",
       "    <tr>\n",
       "      <th>constant</th>\n",
       "      <td>2.067904e-09</td>\n",
       "      <td>-6.193351</td>\n",
       "    </tr>\n",
       "  </tbody>\n",
       "</table>\n",
       "</div>"
      ],
      "text/plain": [
       "               p value  t statistic\n",
       "MEI       0.000000e+00     9.809468\n",
       "CO2       5.561250e-03     2.794018\n",
       "CH4       8.122759e-01     0.237713\n",
       "N2O       5.745452e-02    -1.907604\n",
       "CFC-11    7.143337e-05    -4.031086\n",
       "CFC-12    2.455231e-04     3.714220\n",
       "TSI       1.590465e-09     6.240195\n",
       "Aerosols  8.515411e-12    -7.127643\n",
       "constant  2.067904e-09    -6.193351"
      ]
     },
     "execution_count": 223,
     "metadata": {},
     "output_type": "execute_result"
    }
   ],
   "source": [
    "y_train_predict = x_train_withc @ theta2\n",
    "MSE = (sum((y_train-y_train_predict)**2))/(len(x_train_withc)- np.shape(x_train_withc)[1])\n",
    "var_b = MSE * (np.linalg.inv(np.dot(x_train_withc.T,x_train_withc)).diagonal())\n",
    "svar_b = np.sqrt(var_b)\n",
    "ts_b = theta1/ svar_b\n",
    "p_values =[2*(1-stats.t.cdf(np.abs(i),(len(x_train_withc)-1))) for i in ts_b]\n",
    "result = pd.DataFrame()\n",
    "result[\"p value\"] = p_values\n",
    "result[\"t statistic\"] = ts_b\n",
    "result.index=[\"MEI\",\"CO2\",\"CH4\",\"N2O\",\"CFC-11\",\"CFC-12\",\"TSI\",\"Aerosols\",\"constant\"]\n",
    "result"
   ]
  },
  {
   "cell_type": "markdown",
   "metadata": {},
   "source": [
    "## 2.4"
   ]
  },
  {
   "cell_type": "code",
   "execution_count": 242,
   "metadata": {},
   "outputs": [
    {
     "data": {
      "text/html": [
       "<div>\n",
       "<style scoped>\n",
       "    .dataframe tbody tr th:only-of-type {\n",
       "        vertical-align: middle;\n",
       "    }\n",
       "\n",
       "    .dataframe tbody tr th {\n",
       "        vertical-align: top;\n",
       "    }\n",
       "\n",
       "    .dataframe thead th {\n",
       "        text-align: right;\n",
       "    }\n",
       "</style>\n",
       "<table border=\"1\" class=\"dataframe\">\n",
       "  <thead>\n",
       "    <tr style=\"text-align: right;\">\n",
       "      <th></th>\n",
       "      <th>r_square of train_set</th>\n",
       "      <th>r_square of test_set</th>\n",
       "    </tr>\n",
       "  </thead>\n",
       "  <tbody>\n",
       "    <tr>\n",
       "      <th>10.000</th>\n",
       "      <td>0.704115</td>\n",
       "      <td>-0.287933</td>\n",
       "    </tr>\n",
       "    <tr>\n",
       "      <th>1.000</th>\n",
       "      <td>0.717278</td>\n",
       "      <td>-0.089198</td>\n",
       "    </tr>\n",
       "    <tr>\n",
       "      <th>0.100</th>\n",
       "      <td>0.745082</td>\n",
       "      <td>0.098240</td>\n",
       "    </tr>\n",
       "    <tr>\n",
       "      <th>0.010</th>\n",
       "      <td>0.750769</td>\n",
       "      <td>0.173363</td>\n",
       "    </tr>\n",
       "    <tr>\n",
       "      <th>0.001</th>\n",
       "      <td>0.750892</td>\n",
       "      <td>0.182719</td>\n",
       "    </tr>\n",
       "  </tbody>\n",
       "</table>\n",
       "</div>"
      ],
      "text/plain": [
       "        r_square of train_set  r_square of test_set\n",
       "10.000               0.704115             -0.287933\n",
       "1.000                0.717278             -0.089198\n",
       "0.100                0.745082              0.098240\n",
       "0.010                0.750769              0.173363\n",
       "0.001                0.750892              0.182719"
      ]
     },
     "execution_count": 242,
     "metadata": {},
     "output_type": "execute_result"
    }
   ],
   "source": [
    "lamda = [10, 1, 0.1, 0.01, 0.001]\n",
    "r_square_train_list = []\n",
    "r_square_test_list = []\n",
    "for i in lamda:\n",
    "    theta = closed_form_2(x_train_withc, y_train, i) \n",
    "    r_square_train = r_square(x_train_withc, y_train, theta)\n",
    "    r_square_train_list.append(r_square_train)\n",
    "    r_square_test = r_square(x_test_withc, y_test, theta)\n",
    "    r_square_test_list.append(r_square_test)\n",
    "r_result = pd.DataFrame()\n",
    "r_result[\"r_square of train_set\"] = r_square_train_list\n",
    "r_result[\"r_square of test_set\"] = r_square_test_list\n",
    "r_result.index = lamda\n",
    "r_result\n",
    "    \n",
    "    "
   ]
  },
  {
   "cell_type": "code",
   "execution_count": 243,
   "metadata": {},
   "outputs": [
    {
     "name": "stdout",
     "output_type": "stream",
     "text": [
      "when cv = 5, the best lambda is 0.001\n",
      "when cv = 10, the best lambda is 0.01\n"
     ]
    }
   ],
   "source": [
    "# 提供一组备选的α值, RidgeCV类选择一个合适的α值.\n",
    "ridgecv = RidgeCV(alphas=[10, 1, 0.1, 0.01, 0.001], cv=5)\n",
    "ridgecv.fit(x_train, y_train)\n",
    "print(\"when cv = 5, the best lambda is {}\".format(ridgecv.alpha_))\n",
    "ridgecv = RidgeCV(alphas=[10, 1, 0.1, 0.01, 0.001], cv=10)\n",
    "ridgecv.fit(x_train, y_train)\n",
    "print(\"when cv = 10, the best lambda is {}\".format(ridgecv.alpha_))"
   ]
  },
  {
   "cell_type": "markdown",
   "metadata": {},
   "source": [
    "# Problem 3"
   ]
  },
  {
   "cell_type": "markdown",
   "metadata": {},
   "source": [
    "## 3.1"
   ]
  },
  {
   "cell_type": "markdown",
   "metadata": {},
   "source": [
    "### First: remove highly correlated features:(remove the feature whose vif is greater than 10), in this step, remove CFC-12, N2O and CF4"
   ]
  },
  {
   "cell_type": "markdown",
   "metadata": {},
   "source": [
    "Step one:\n",
    "get the correlation coefficient matrix and calculate $vif_j=\\frac{1}{1-R_j^2}$ where ${R_j^2}$ is the r square of the regression between $x_j$ and other features to find the variable that is highly correlated with other variables."
   ]
  },
  {
   "cell_type": "code",
   "execution_count": 253,
   "metadata": {},
   "outputs": [
    {
     "data": {
      "text/html": [
       "<div>\n",
       "<style scoped>\n",
       "    .dataframe tbody tr th:only-of-type {\n",
       "        vertical-align: middle;\n",
       "    }\n",
       "\n",
       "    .dataframe tbody tr th {\n",
       "        vertical-align: top;\n",
       "    }\n",
       "\n",
       "    .dataframe thead th {\n",
       "        text-align: right;\n",
       "    }\n",
       "</style>\n",
       "<table border=\"1\" class=\"dataframe\">\n",
       "  <thead>\n",
       "    <tr style=\"text-align: right;\">\n",
       "      <th></th>\n",
       "      <th>MEI</th>\n",
       "      <th>CO2</th>\n",
       "      <th>CH4</th>\n",
       "      <th>N2O</th>\n",
       "      <th>CFC-11</th>\n",
       "      <th>CFC-12</th>\n",
       "      <th>TSI</th>\n",
       "      <th>Aerosols</th>\n",
       "    </tr>\n",
       "  </thead>\n",
       "  <tbody>\n",
       "    <tr>\n",
       "      <th>MEI</th>\n",
       "      <td>1.000000</td>\n",
       "      <td>-0.041147</td>\n",
       "      <td>-0.033419</td>\n",
       "      <td>-0.050820</td>\n",
       "      <td>0.069000</td>\n",
       "      <td>0.008286</td>\n",
       "      <td>-0.154492</td>\n",
       "      <td>0.340238</td>\n",
       "    </tr>\n",
       "    <tr>\n",
       "      <th>CO2</th>\n",
       "      <td>-0.041147</td>\n",
       "      <td>1.000000</td>\n",
       "      <td>0.877280</td>\n",
       "      <td>0.976720</td>\n",
       "      <td>0.514060</td>\n",
       "      <td>0.852690</td>\n",
       "      <td>0.177429</td>\n",
       "      <td>-0.356155</td>\n",
       "    </tr>\n",
       "    <tr>\n",
       "      <th>CH4</th>\n",
       "      <td>-0.033419</td>\n",
       "      <td>0.877280</td>\n",
       "      <td>1.000000</td>\n",
       "      <td>0.899839</td>\n",
       "      <td>0.779904</td>\n",
       "      <td>0.963616</td>\n",
       "      <td>0.245528</td>\n",
       "      <td>-0.267809</td>\n",
       "    </tr>\n",
       "    <tr>\n",
       "      <th>N2O</th>\n",
       "      <td>-0.050820</td>\n",
       "      <td>0.976720</td>\n",
       "      <td>0.899839</td>\n",
       "      <td>1.000000</td>\n",
       "      <td>0.522477</td>\n",
       "      <td>0.867931</td>\n",
       "      <td>0.199757</td>\n",
       "      <td>-0.337055</td>\n",
       "    </tr>\n",
       "    <tr>\n",
       "      <th>CFC-11</th>\n",
       "      <td>0.069000</td>\n",
       "      <td>0.514060</td>\n",
       "      <td>0.779904</td>\n",
       "      <td>0.522477</td>\n",
       "      <td>1.000000</td>\n",
       "      <td>0.868985</td>\n",
       "      <td>0.272046</td>\n",
       "      <td>-0.043921</td>\n",
       "    </tr>\n",
       "    <tr>\n",
       "      <th>CFC-12</th>\n",
       "      <td>0.008286</td>\n",
       "      <td>0.852690</td>\n",
       "      <td>0.963616</td>\n",
       "      <td>0.867931</td>\n",
       "      <td>0.868985</td>\n",
       "      <td>1.000000</td>\n",
       "      <td>0.255303</td>\n",
       "      <td>-0.225131</td>\n",
       "    </tr>\n",
       "    <tr>\n",
       "      <th>TSI</th>\n",
       "      <td>-0.154492</td>\n",
       "      <td>0.177429</td>\n",
       "      <td>0.245528</td>\n",
       "      <td>0.199757</td>\n",
       "      <td>0.272046</td>\n",
       "      <td>0.255303</td>\n",
       "      <td>1.000000</td>\n",
       "      <td>0.052117</td>\n",
       "    </tr>\n",
       "    <tr>\n",
       "      <th>Aerosols</th>\n",
       "      <td>0.340238</td>\n",
       "      <td>-0.356155</td>\n",
       "      <td>-0.267809</td>\n",
       "      <td>-0.337055</td>\n",
       "      <td>-0.043921</td>\n",
       "      <td>-0.225131</td>\n",
       "      <td>0.052117</td>\n",
       "      <td>1.000000</td>\n",
       "    </tr>\n",
       "  </tbody>\n",
       "</table>\n",
       "</div>"
      ],
      "text/plain": [
       "               MEI       CO2       CH4       N2O    CFC-11    CFC-12  \\\n",
       "MEI       1.000000 -0.041147 -0.033419 -0.050820  0.069000  0.008286   \n",
       "CO2      -0.041147  1.000000  0.877280  0.976720  0.514060  0.852690   \n",
       "CH4      -0.033419  0.877280  1.000000  0.899839  0.779904  0.963616   \n",
       "N2O      -0.050820  0.976720  0.899839  1.000000  0.522477  0.867931   \n",
       "CFC-11    0.069000  0.514060  0.779904  0.522477  1.000000  0.868985   \n",
       "CFC-12    0.008286  0.852690  0.963616  0.867931  0.868985  1.000000   \n",
       "TSI      -0.154492  0.177429  0.245528  0.199757  0.272046  0.255303   \n",
       "Aerosols  0.340238 -0.356155 -0.267809 -0.337055 -0.043921 -0.225131   \n",
       "\n",
       "               TSI  Aerosols  \n",
       "MEI      -0.154492  0.340238  \n",
       "CO2       0.177429 -0.356155  \n",
       "CH4       0.245528 -0.267809  \n",
       "N2O       0.199757 -0.337055  \n",
       "CFC-11    0.272046 -0.043921  \n",
       "CFC-12    0.255303 -0.225131  \n",
       "TSI       1.000000  0.052117  \n",
       "Aerosols  0.052117  1.000000  "
      ]
     },
     "execution_count": 253,
     "metadata": {},
     "output_type": "execute_result"
    }
   ],
   "source": [
    "correlation = x_train.corr()\n",
    "correlation"
   ]
  },
  {
   "cell_type": "code",
   "execution_count": 254,
   "metadata": {},
   "outputs": [
    {
     "data": {
      "text/plain": [
       "[1.2173189852022297,\n",
       " 22.98291086231459,\n",
       " 18.673084776131148,\n",
       " 55.88969192427592,\n",
       " 39.18324241424785,\n",
       " 120.50292550321454,\n",
       " 1.1795388493824828,\n",
       " 1.378404273605766]"
      ]
     },
     "execution_count": 254,
     "metadata": {},
     "output_type": "execute_result"
    }
   ],
   "source": [
    "# def vif(x):\n",
    "#     correlation = x.corr()\n",
    "#     vif = np.zeros(np.shape(x)[1])\n",
    "#     for i in range(np.shape(x)[1]):\n",
    "#         for j in range(np.shape(x)[1]):\n",
    "#             if i!= j :\n",
    "#                 vif[i] += 1 / (1-correlation.iloc[i,j] ** 2)\n",
    "#     return vif\n",
    "def vif(x):\n",
    "    vif=[]\n",
    "    for i in range(np.shape(x)[1]-1):\n",
    "        theta = closed_form_1(x.drop([x.columns[i]],axis=1),x.iloc[:,i]) \n",
    "        vif1 = 1/(1-r_square(x.drop([x.columns[i]],axis=1),x.iloc[:,i], theta))\n",
    "        vif.append(vif1)\n",
    "    return vif\n",
    "x_train_1 = x_train.copy()\n",
    "x_train_1[\"constant\"] =1\n",
    "vif(x_train_1)"
   ]
  },
  {
   "cell_type": "markdown",
   "metadata": {},
   "source": [
    "Step two:\n",
    "    \n",
    "    remove CFC-12 since it has biggest vif"
   ]
  },
  {
   "cell_type": "code",
   "execution_count": 255,
   "metadata": {},
   "outputs": [
    {
     "data": {
      "text/plain": [
       "[1.2171616885673988,\n",
       " 22.535502083480637,\n",
       " 17.56160005749386,\n",
       " 32.09518739115482,\n",
       " 4.808665061133019,\n",
       " 1.1586949495456074,\n",
       " 1.3770098650757572]"
      ]
     },
     "execution_count": 255,
     "metadata": {},
     "output_type": "execute_result"
    }
   ],
   "source": [
    "x_train_1 = x_train_1.drop(columns = [\"CFC-12\"])\n",
    "vif(x_train_1)"
   ]
  },
  {
   "cell_type": "markdown",
   "metadata": {},
   "source": [
    "Step there:\n",
    "    \n",
    "    remove N2O since it has biggest vif"
   ]
  },
  {
   "cell_type": "code",
   "execution_count": 256,
   "metadata": {},
   "outputs": [
    {
     "data": {
      "text/plain": [
       "[1.2171428002471456,\n",
       " 6.6215940105910995,\n",
       " 12.220306785326802,\n",
       " 3.966497808725914,\n",
       " 1.1482051230936552,\n",
       " 1.37010485476195]"
      ]
     },
     "execution_count": 256,
     "metadata": {},
     "output_type": "execute_result"
    }
   ],
   "source": [
    "x_train_1 = x_train_1.drop(columns = [\"N2O\"])\n",
    "vif(x_train_1)"
   ]
  },
  {
   "cell_type": "markdown",
   "metadata": {},
   "source": [
    "Step four:\n",
    "    \n",
    "    remove CH4 since it has biggest vif"
   ]
  },
  {
   "cell_type": "code",
   "execution_count": 257,
   "metadata": {},
   "outputs": [
    {
     "data": {
      "text/plain": [
       "[1.2023895542032323,\n",
       " 1.6196568032921648,\n",
       " 1.470754387567506,\n",
       " 1.1479950467948405,\n",
       " 1.369222909202984]"
      ]
     },
     "execution_count": 257,
     "metadata": {},
     "output_type": "execute_result"
    }
   ],
   "source": [
    "x_train_1 = x_train_1.drop(columns = [\"CH4\"])\n",
    "vif(x_train_1)"
   ]
  },
  {
   "cell_type": "code",
   "execution_count": 258,
   "metadata": {},
   "outputs": [
    {
     "data": {
      "text/html": [
       "<div>\n",
       "<style scoped>\n",
       "    .dataframe tbody tr th:only-of-type {\n",
       "        vertical-align: middle;\n",
       "    }\n",
       "\n",
       "    .dataframe tbody tr th {\n",
       "        vertical-align: top;\n",
       "    }\n",
       "\n",
       "    .dataframe thead th {\n",
       "        text-align: right;\n",
       "    }\n",
       "</style>\n",
       "<table border=\"1\" class=\"dataframe\">\n",
       "  <thead>\n",
       "    <tr style=\"text-align: right;\">\n",
       "      <th></th>\n",
       "      <th>MEI</th>\n",
       "      <th>CO2</th>\n",
       "      <th>CFC-11</th>\n",
       "      <th>TSI</th>\n",
       "      <th>Aerosols</th>\n",
       "    </tr>\n",
       "  </thead>\n",
       "  <tbody>\n",
       "    <tr>\n",
       "      <th>MEI</th>\n",
       "      <td>1.000000</td>\n",
       "      <td>-0.041147</td>\n",
       "      <td>0.069000</td>\n",
       "      <td>-0.154492</td>\n",
       "      <td>0.340238</td>\n",
       "    </tr>\n",
       "    <tr>\n",
       "      <th>CO2</th>\n",
       "      <td>-0.041147</td>\n",
       "      <td>1.000000</td>\n",
       "      <td>0.514060</td>\n",
       "      <td>0.177429</td>\n",
       "      <td>-0.356155</td>\n",
       "    </tr>\n",
       "    <tr>\n",
       "      <th>CFC-11</th>\n",
       "      <td>0.069000</td>\n",
       "      <td>0.514060</td>\n",
       "      <td>1.000000</td>\n",
       "      <td>0.272046</td>\n",
       "      <td>-0.043921</td>\n",
       "    </tr>\n",
       "    <tr>\n",
       "      <th>TSI</th>\n",
       "      <td>-0.154492</td>\n",
       "      <td>0.177429</td>\n",
       "      <td>0.272046</td>\n",
       "      <td>1.000000</td>\n",
       "      <td>0.052117</td>\n",
       "    </tr>\n",
       "    <tr>\n",
       "      <th>Aerosols</th>\n",
       "      <td>0.340238</td>\n",
       "      <td>-0.356155</td>\n",
       "      <td>-0.043921</td>\n",
       "      <td>0.052117</td>\n",
       "      <td>1.000000</td>\n",
       "    </tr>\n",
       "  </tbody>\n",
       "</table>\n",
       "</div>"
      ],
      "text/plain": [
       "               MEI       CO2    CFC-11       TSI  Aerosols\n",
       "MEI       1.000000 -0.041147  0.069000 -0.154492  0.340238\n",
       "CO2      -0.041147  1.000000  0.514060  0.177429 -0.356155\n",
       "CFC-11    0.069000  0.514060  1.000000  0.272046 -0.043921\n",
       "TSI      -0.154492  0.177429  0.272046  1.000000  0.052117\n",
       "Aerosols  0.340238 -0.356155 -0.043921  0.052117  1.000000"
      ]
     },
     "execution_count": 258,
     "metadata": {},
     "output_type": "execute_result"
    }
   ],
   "source": [
    "x_train_1 = x_train_1.drop(columns = [\"constant\"])\n",
    "x_train_1.corr()"
   ]
  },
  {
   "cell_type": "markdown",
   "metadata": {},
   "source": [
    "### Second, First: remove  redundant features (not significant),remove CFC-11"
   ]
  },
  {
   "cell_type": "markdown",
   "metadata": {},
   "source": [
    "Accoding to t statistic and p value, remove CFC-11, and $R^2$ of training set increase significantly which is 0.32569067160230875"
   ]
  },
  {
   "cell_type": "code",
   "execution_count": 259,
   "metadata": {},
   "outputs": [
    {
     "name": "stdout",
     "output_type": "stream",
     "text": [
      "                            OLS Regression Results                            \n",
      "==============================================================================\n",
      "Dep. Variable:                      y   R-squared:                       0.734\n",
      "Model:                            OLS   Adj. R-squared:                  0.730\n",
      "Method:                 Least Squares   F-statistic:                     153.8\n",
      "Date:                Fri, 27 Dec 2019   Prob (F-statistic):           7.12e-78\n",
      "Time:                        21:18:21   Log-Likelihood:                 271.03\n",
      "No. Observations:                 284   AIC:                            -530.1\n",
      "Df Residuals:                     278   BIC:                            -508.2\n",
      "Df Model:                           5                                         \n",
      "Covariance Type:            nonrobust                                         \n",
      "==============================================================================\n",
      "                 coef    std err          t      P>|t|      [0.025      0.975]\n",
      "------------------------------------------------------------------------------\n",
      "MEI            0.0626      0.007      9.481      0.000       0.050       0.076\n",
      "CO2            0.0110      0.001     17.621      0.000       0.010       0.012\n",
      "CFC-11        -0.0003      0.000     -0.923      0.357      -0.001       0.000\n",
      "TSI            0.0871      0.015      5.827      0.000       0.058       0.117\n",
      "Aerosols      -1.5629      0.218     -7.161      0.000      -1.993      -1.133\n",
      "constant    -122.6255     20.383     -6.016      0.000    -162.750     -82.501\n",
      "==============================================================================\n",
      "Omnibus:                       14.935   Durbin-Watson:                   0.899\n",
      "Prob(Omnibus):                  0.001   Jarque-Bera (JB):               17.946\n",
      "Skew:                           0.449   Prob(JB):                     0.000127\n",
      "Kurtosis:                       3.842   Cond. No.                     5.24e+06\n",
      "==============================================================================\n",
      "\n",
      "Warnings:\n",
      "[1] Standard Errors assume that the covariance matrix of the errors is correctly specified.\n",
      "[2] The condition number is large, 5.24e+06. This might indicate that there are\n",
      "strong multicollinearity or other numerical problems.\n"
     ]
    }
   ],
   "source": [
    "x_train_withc_1 =  x_train_1.copy()\n",
    "x_train_withc_1[\"constant\"] = 1\n",
    "model = sm.OLS(y_train, x_train_withc_1)\n",
    "results = model.fit()\n",
    "print(results.summary())"
   ]
  },
  {
   "cell_type": "code",
   "execution_count": 251,
   "metadata": {},
   "outputs": [
    {
     "name": "stdout",
     "output_type": "stream",
     "text": [
      "                            OLS Regression Results                            \n",
      "==============================================================================\n",
      "Dep. Variable:                      y   R-squared:                       0.734\n",
      "Model:                            OLS   Adj. R-squared:                  0.730\n",
      "Method:                 Least Squares   F-statistic:                     192.1\n",
      "Date:                Fri, 27 Dec 2019   Prob (F-statistic):           7.36e-79\n",
      "Time:                        21:18:01   Log-Likelihood:                 270.59\n",
      "No. Observations:                 284   AIC:                            -531.2\n",
      "Df Residuals:                     279   BIC:                            -512.9\n",
      "Df Model:                           4                                         \n",
      "Covariance Type:            nonrobust                                         \n",
      "==============================================================================\n",
      "                 coef    std err          t      P>|t|      [0.025      0.975]\n",
      "------------------------------------------------------------------------------\n",
      "MEI            0.0620      0.007      9.438      0.000       0.049       0.075\n",
      "CO2            0.0107      0.001     19.777      0.000       0.010       0.012\n",
      "TSI            0.0842      0.015      5.764      0.000       0.055       0.113\n",
      "Aerosols      -1.5844      0.217     -7.303      0.000      -2.011      -1.157\n",
      "constant    -118.6016     19.906     -5.958      0.000    -157.787     -79.416\n",
      "==============================================================================\n",
      "Omnibus:                       14.491   Durbin-Watson:                   0.891\n",
      "Prob(Omnibus):                  0.001   Jarque-Bera (JB):               17.210\n",
      "Skew:                           0.444   Prob(JB):                     0.000183\n",
      "Kurtosis:                       3.817   Cond. No.                     5.03e+06\n",
      "==============================================================================\n",
      "\n",
      "Warnings:\n",
      "[1] Standard Errors assume that the covariance matrix of the errors is correctly specified.\n",
      "[2] The condition number is large, 5.03e+06. This might indicate that there are\n",
      "strong multicollinearity or other numerical problems.\n"
     ]
    },
    {
     "data": {
      "text/plain": [
       "0.7336403429131453"
      ]
     },
     "execution_count": 251,
     "metadata": {},
     "output_type": "execute_result"
    }
   ],
   "source": [
    "x_train_1 = x_train_1.drop(columns = [\"CFC-11\"])\n",
    "x_train_withc_1 =  x_train_1.copy()\n",
    "x_train_withc_1[\"constant\"] = 1\n",
    "model = sm.OLS(y_train,x_train_withc_1)\n",
    "results = model.fit()\n",
    "print(results.summary())"
   ]
  },
  {
   "cell_type": "code",
   "execution_count": 252,
   "metadata": {},
   "outputs": [
    {
     "data": {
      "text/plain": [
       "-0.31032758669797866"
      ]
     },
     "execution_count": 252,
     "metadata": {},
     "output_type": "execute_result"
    }
   ],
   "source": [
    "x_test_1 = x_test.drop(columns = [\"N2O\",\"CH4\",\"CFC-12\",\"CFC-11\"])\n",
    "x_test_withc_1 =  x_test_1.copy()\n",
    "x_test_withc_1[\"constant\"] = 1\n",
    "theta1 = closed_form_1(x_train_withc_1, y_train) \n",
    "r_square_test = r_square(x_test_withc_1, y_test, theta1)\n",
    "r_square_test"
   ]
  },
  {
   "cell_type": "markdown",
   "metadata": {},
   "source": [
    "## 3.2"
   ]
  },
  {
   "cell_type": "markdown",
   "metadata": {},
   "source": [
    "### The result of First step is the same as Problem3.1\n",
    "### Seacond step is remove  redundant features remove CFC-11"
   ]
  },
  {
   "cell_type": "markdown",
   "metadata": {},
   "source": [
    "Calculate the t statistic and p value, and then remove cfc-11"
   ]
  },
  {
   "cell_type": "code",
   "execution_count": 235,
   "metadata": {},
   "outputs": [
    {
     "data": {
      "text/plain": [
       "array([ 5.65959034e-02,  1.15847400e-02, -3.84173459e-04,  8.07703482e-02,\n",
       "       -1.01625501e+00, -1.14183923e+02])"
      ]
     },
     "execution_count": 235,
     "metadata": {},
     "output_type": "execute_result"
    }
   ],
   "source": [
    "x_train_2 = x_train.drop(columns = [\"N2O\",\"CH4\",\"CFC-12\"])\n",
    "x_train_withc_2 =  x_train_2.copy()\n",
    "x_train_withc_2[\"constant\"] = 1\n",
    "#x_train_withc_2 = x_train_withc2.values\n",
    "theta2 = closed_form_2(x_train_withc_2, y_train, 0.1) \n",
    "theta2"
   ]
  },
  {
   "cell_type": "code",
   "execution_count": 236,
   "metadata": {},
   "outputs": [
    {
     "data": {
      "text/html": [
       "<div>\n",
       "<style scoped>\n",
       "    .dataframe tbody tr th:only-of-type {\n",
       "        vertical-align: middle;\n",
       "    }\n",
       "\n",
       "    .dataframe tbody tr th {\n",
       "        vertical-align: top;\n",
       "    }\n",
       "\n",
       "    .dataframe thead th {\n",
       "        text-align: right;\n",
       "    }\n",
       "</style>\n",
       "<table border=\"1\" class=\"dataframe\">\n",
       "  <thead>\n",
       "    <tr style=\"text-align: right;\">\n",
       "      <th></th>\n",
       "      <th>p value</th>\n",
       "      <th>t statistic</th>\n",
       "    </tr>\n",
       "  </thead>\n",
       "  <tbody>\n",
       "    <tr>\n",
       "      <th>MEI</th>\n",
       "      <td>1.332268e-15</td>\n",
       "      <td>8.475800</td>\n",
       "    </tr>\n",
       "    <tr>\n",
       "      <th>CO2</th>\n",
       "      <td>0.000000e+00</td>\n",
       "      <td>18.394721</td>\n",
       "    </tr>\n",
       "    <tr>\n",
       "      <th>CFC-11</th>\n",
       "      <td>2.412117e-01</td>\n",
       "      <td>-1.174426</td>\n",
       "    </tr>\n",
       "    <tr>\n",
       "      <th>TSI</th>\n",
       "      <td>1.876498e-07</td>\n",
       "      <td>5.343632</td>\n",
       "    </tr>\n",
       "    <tr>\n",
       "      <th>Aerosols</th>\n",
       "      <td>6.250163e-06</td>\n",
       "      <td>-4.604627</td>\n",
       "    </tr>\n",
       "    <tr>\n",
       "      <th>constant</th>\n",
       "      <td>6.924271e-08</td>\n",
       "      <td>-5.539814</td>\n",
       "    </tr>\n",
       "  </tbody>\n",
       "</table>\n",
       "</div>"
      ],
      "text/plain": [
       "               p value  t statistic\n",
       "MEI       1.332268e-15     8.475800\n",
       "CO2       0.000000e+00    18.394721\n",
       "CFC-11    2.412117e-01    -1.174426\n",
       "TSI       1.876498e-07     5.343632\n",
       "Aerosols  6.250163e-06    -4.604627\n",
       "constant  6.924271e-08    -5.539814"
      ]
     },
     "execution_count": 236,
     "metadata": {},
     "output_type": "execute_result"
    }
   ],
   "source": [
    "y_train_predict_2 = x_train_withc_2 @ theta2\n",
    "MSE = (sum((y_train-y_train_predict_2)**2))/(len(x_train_withc_2)- np.shape(x_train_withc_2)[1])\n",
    "var_b = MSE * (np.linalg.inv(np.dot(x_train_withc_2.T,x_train_withc_2)).diagonal())\n",
    "svar_b = np.sqrt(var_b)\n",
    "ts_b = theta2 / svar_b\n",
    "p_values =[2*(1-stats.t.cdf(np.abs(i),(len(x_train_withc_2)-1))) for i in ts_b]\n",
    "result = pd.DataFrame()\n",
    "result[\"p value\"] = p_values\n",
    "result[\"t statistic\"] = ts_b\n",
    "result.index=[\"MEI\",\"CO2\",\"CFC-11\",\"TSI\",\"Aerosols\",\"constant\"]\n",
    "result"
   ]
  },
  {
   "cell_type": "code",
   "execution_count": 237,
   "metadata": {},
   "outputs": [
    {
     "data": {
      "text/plain": [
       "array([ 5.57572714e-02,  1.12267974e-02,  7.68937418e-02, -1.03439223e+00,\n",
       "       -1.08855111e+02])"
      ]
     },
     "execution_count": 237,
     "metadata": {},
     "output_type": "execute_result"
    }
   ],
   "source": [
    "x_train_2 = x_train_2.drop(columns = [\"CFC-11\"])\n",
    "x_train_withc_2 =  x_train_2.copy()\n",
    "x_train_withc_2[\"constant\"] = 1\n",
    "#x_train_withc_2 = x_train_withc2.values\n",
    "theta2 = closed_form_2(x_train_withc_2, y_train, 0.1) \n",
    "theta2"
   ]
  },
  {
   "cell_type": "code",
   "execution_count": 238,
   "metadata": {},
   "outputs": [
    {
     "data": {
      "text/html": [
       "<div>\n",
       "<style scoped>\n",
       "    .dataframe tbody tr th:only-of-type {\n",
       "        vertical-align: middle;\n",
       "    }\n",
       "\n",
       "    .dataframe tbody tr th {\n",
       "        vertical-align: top;\n",
       "    }\n",
       "\n",
       "    .dataframe thead th {\n",
       "        text-align: right;\n",
       "    }\n",
       "</style>\n",
       "<table border=\"1\" class=\"dataframe\">\n",
       "  <thead>\n",
       "    <tr style=\"text-align: right;\">\n",
       "      <th></th>\n",
       "      <th>p value</th>\n",
       "      <th>t statistic</th>\n",
       "    </tr>\n",
       "  </thead>\n",
       "  <tbody>\n",
       "    <tr>\n",
       "      <th>MEI</th>\n",
       "      <td>2.442491e-15</td>\n",
       "      <td>8.386943</td>\n",
       "    </tr>\n",
       "    <tr>\n",
       "      <th>CO2</th>\n",
       "      <td>0.000000e+00</td>\n",
       "      <td>20.537701</td>\n",
       "    </tr>\n",
       "    <tr>\n",
       "      <th>TSI</th>\n",
       "      <td>3.723907e-07</td>\n",
       "      <td>5.205549</td>\n",
       "    </tr>\n",
       "    <tr>\n",
       "      <th>Aerosols</th>\n",
       "      <td>3.816051e-06</td>\n",
       "      <td>-4.714016</td>\n",
       "    </tr>\n",
       "    <tr>\n",
       "      <th>constant</th>\n",
       "      <td>1.367613e-07</td>\n",
       "      <td>-5.406462</td>\n",
       "    </tr>\n",
       "  </tbody>\n",
       "</table>\n",
       "</div>"
      ],
      "text/plain": [
       "               p value  t statistic\n",
       "MEI       2.442491e-15     8.386943\n",
       "CO2       0.000000e+00    20.537701\n",
       "TSI       3.723907e-07     5.205549\n",
       "Aerosols  3.816051e-06    -4.714016\n",
       "constant  1.367613e-07    -5.406462"
      ]
     },
     "execution_count": 238,
     "metadata": {},
     "output_type": "execute_result"
    }
   ],
   "source": [
    "y_train_predict_2 = x_train_withc_2 @ theta2\n",
    "MSE = (sum((y_train-y_train_predict_2)**2))/(len(x_train_withc_2)- np.shape(x_train_withc_2)[1])\n",
    "var_b = MSE * (np.linalg.inv(np.dot(x_train_withc_2.T,x_train_withc_2)).diagonal())\n",
    "svar_b = np.sqrt(var_b)\n",
    "ts_b = theta2 / svar_b\n",
    "p_values =[2*(1-stats.t.cdf(np.abs(i),(len(x_train_withc_2)-1))) for i in ts_b]\n",
    "result = pd.DataFrame()\n",
    "result[\"p value\"] = p_values\n",
    "result[\"t statistic\"] = ts_b\n",
    "result.index=[\"MEI\",\"CO2\",\"TSI\",\"Aerosols\",\"constant\"]\n",
    "result"
   ]
  },
  {
   "cell_type": "code",
   "execution_count": 239,
   "metadata": {},
   "outputs": [
    {
     "data": {
      "text/html": [
       "<div>\n",
       "<style scoped>\n",
       "    .dataframe tbody tr th:only-of-type {\n",
       "        vertical-align: middle;\n",
       "    }\n",
       "\n",
       "    .dataframe tbody tr th {\n",
       "        vertical-align: top;\n",
       "    }\n",
       "\n",
       "    .dataframe thead th {\n",
       "        text-align: right;\n",
       "    }\n",
       "</style>\n",
       "<table border=\"1\" class=\"dataframe\">\n",
       "  <thead>\n",
       "    <tr style=\"text-align: right;\">\n",
       "      <th></th>\n",
       "      <th>r_square of train_set</th>\n",
       "      <th>r_square of test_set</th>\n",
       "    </tr>\n",
       "  </thead>\n",
       "  <tbody>\n",
       "    <tr>\n",
       "      <th>10.000</th>\n",
       "      <td>0.683703</td>\n",
       "      <td>-1.141471</td>\n",
       "    </tr>\n",
       "    <tr>\n",
       "      <th>1.000</th>\n",
       "      <td>0.697505</td>\n",
       "      <td>-0.872407</td>\n",
       "    </tr>\n",
       "    <tr>\n",
       "      <th>0.100</th>\n",
       "      <td>0.727503</td>\n",
       "      <td>-0.511775</td>\n",
       "    </tr>\n",
       "    <tr>\n",
       "      <th>0.010</th>\n",
       "      <td>0.733511</td>\n",
       "      <td>-0.337445</td>\n",
       "    </tr>\n",
       "    <tr>\n",
       "      <th>0.001</th>\n",
       "      <td>0.733639</td>\n",
       "      <td>-0.313134</td>\n",
       "    </tr>\n",
       "  </tbody>\n",
       "</table>\n",
       "</div>"
      ],
      "text/plain": [
       "        r_square of train_set  r_square of test_set\n",
       "10.000               0.683703             -1.141471\n",
       "1.000                0.697505             -0.872407\n",
       "0.100                0.727503             -0.511775\n",
       "0.010                0.733511             -0.337445\n",
       "0.001                0.733639             -0.313134"
      ]
     },
     "execution_count": 239,
     "metadata": {},
     "output_type": "execute_result"
    }
   ],
   "source": [
    "x_test_2 = x_test.drop(columns = [\"N2O\",\"CH4\",\"CFC-12\",\"CFC-11\"])\n",
    "x_test_withc_2 =  x_test_2.copy()\n",
    "x_test_withc_2[\"constant\"] = 1\n",
    "lamda = [10, 1, 0.1, 0.01, 0.001]\n",
    "r_square_train_list = []\n",
    "r_square_test_list = []\n",
    "for i in lamda:\n",
    "    theta = closed_form_2(x_train_withc_2, y_train, i) \n",
    "    r_square_train = r_square(x_train_withc_2, y_train, theta)\n",
    "    r_square_train_list.append(r_square_train)\n",
    "    r_square_test = r_square(x_test_withc_2, y_test, theta)\n",
    "    r_square_test_list.append(r_square_test)\n",
    "r_result = pd.DataFrame()\n",
    "r_result[\"r_square of train_set\"] = r_square_train_list\n",
    "r_result[\"r_square of test_set\"] = r_square_test_list\n",
    "r_result.index = lamda\n",
    "r_result"
   ]
  },
  {
   "cell_type": "code",
   "execution_count": 240,
   "metadata": {},
   "outputs": [
    {
     "name": "stdout",
     "output_type": "stream",
     "text": [
      "when cv = 5, the best lambda is 0.01\n",
      "when cv = 10, the best lambda is 0.001\n"
     ]
    }
   ],
   "source": [
    "ridgecv = RidgeCV(alphas=[10, 1, 0.1, 0.01, 0.001], cv=5)\n",
    "ridgecv.fit(x_train_2, y_train)\n",
    "print(\"when cv = 5, the best lambda is {}\".format(ridgecv.alpha_))\n",
    "ridgecv = RidgeCV(alphas=[10, 1, 0.1, 0.01, 0.001], cv=10)\n",
    "ridgecv.fit(x_train_2, y_train)\n",
    "print(\"when cv = 10, the best lambda is {}\".format(ridgecv.alpha_))"
   ]
  },
  {
   "cell_type": "markdown",
   "metadata": {},
   "source": [
    "# Problem 4"
   ]
  },
  {
   "cell_type": "markdown",
   "metadata": {},
   "source": [
    "The iteration expression is that\n",
    "\\begin{equation}\n",
    "\\theta_j = \\theta_j -\\frac{1}{m}[\\sum_{i=1}^{m}(\\hat{y}_i-y_i)x_{ij}]\n",
    "\\label{eq:with L1 regularization}\n",
    "\\end{equation}\n",
    "where j is the number of parameters and i is the number of samples"
   ]
  },
  {
   "cell_type": "code",
   "execution_count": 185,
   "metadata": {},
   "outputs": [],
   "source": [
    "def Gradient_Descent(alpha, theta_0, x, y, tol):\n",
    "    theta = theta_0\n",
    "    cost_d1 = (1 / len(x)) * (x.T @ (x @ theta_0 - y))\n",
    "    count = 0\n",
    "    while not ((np.all(cost_d1) <= tol) | (count > 100000000)):\n",
    "        count += 1\n",
    "        theta = theta - alpha * (1 / len(x)) * (x.T @ (x @ theta - y))\n",
    "        cost_d1 = (1 / len(x)) * (x.T @ (x @ theta - y))\n",
    "    print('times is {}'.format(count))\n",
    "    return theta\n",
    "# def Gradient_Descent1(alpha, theta_0, x, y, tol):\n",
    "#     theta = theta_0\n",
    "#     cost_d1 = (1 / 2 * len(x)) * ((x @ theta_0 - y) ** 2)\n",
    "#     count = 0\n",
    "#     while not ((np.sum(cost_d1) <= tol) | (count > 10000000)):\n",
    "#         count += 1\n",
    "#         theta = theta - alpha * (1 / len(x)) * (x.T @ (x @ theta - y))\n",
    "#         cost_d1 = (1 / 1 * len(x)) * ((x @ theta - y) ** 2)\n",
    "#     print('times is {}'.format(count))\n",
    "#     return theta\n"
   ]
  },
  {
   "cell_type": "code",
   "execution_count": 177,
   "metadata": {},
   "outputs": [
    {
     "name": "stdout",
     "output_type": "stream",
     "text": [
      "times is 10000001\n"
     ]
    },
    {
     "data": {
      "text/plain": [
       "array([21.04187218,  2.06418162,  0.37191704])"
      ]
     },
     "execution_count": 177,
     "metadata": {},
     "output_type": "execute_result"
    }
   ],
   "source": [
    "x_GD = np.array([[1, 2, 3, 4, 5, 6, 7, 8, 9, 10],[2, 5, 7, 8, 6, 10, 13, 17, 18, 19]])\n",
    "x_GD = np.insert(x_GD, 0, np.ones(10), axis = 0).T\n",
    "y_GD = np.array([10, 33, 34, 37, 36, 39, 41, 44, 44, 45])\n",
    "theta_GD = Gradient_Descent(1e-5, np.ones(3), x_GD, y_GD, 1e-5)\n",
    "theta_GD"
   ]
  },
  {
   "cell_type": "code",
   "execution_count": 36,
   "metadata": {},
   "outputs": [
    {
     "name": "stdout",
     "output_type": "stream",
     "text": [
      "                            OLS Regression Results                            \n",
      "==============================================================================\n",
      "Dep. Variable:                      y   R-squared:                       0.682\n",
      "Model:                            OLS   Adj. R-squared:                  0.591\n",
      "Method:                 Least Squares   F-statistic:                     7.513\n",
      "Date:                Tue, 24 Dec 2019   Prob (F-statistic):             0.0181\n",
      "Time:                        20:12:02   Log-Likelihood:                -31.132\n",
      "No. Observations:                  10   AIC:                             68.26\n",
      "Df Residuals:                       7   BIC:                             69.17\n",
      "Df Model:                           2                                         \n",
      "Covariance Type:            nonrobust                                         \n",
      "==============================================================================\n",
      "                 coef    std err          t      P>|t|      [0.025      0.975]\n",
      "------------------------------------------------------------------------------\n",
      "const         21.0419      4.445      4.734      0.002      10.531      31.553\n",
      "x1             2.0642      2.749      0.751      0.477      -4.435       8.564\n",
      "x2             0.3719      1.399      0.266      0.798      -2.936       3.680\n",
      "==============================================================================\n",
      "Omnibus:                        9.986   Durbin-Watson:                   1.390\n",
      "Prob(Omnibus):                  0.007   Jarque-Bera (JB):                4.311\n",
      "Skew:                          -1.433   Prob(JB):                        0.116\n",
      "Kurtosis:                       4.460   Cond. No.                         29.5\n",
      "==============================================================================\n",
      "\n",
      "Warnings:\n",
      "[1] Standard Errors assume that the covariance matrix of the errors is correctly specified.\n"
     ]
    },
    {
     "name": "stderr",
     "output_type": "stream",
     "text": [
      "/Users/zhou/.local/lib/python3.6/site-packages/scipy/stats/stats.py:1450: UserWarning: kurtosistest only valid for n>=20 ... continuing anyway, n=10\n",
      "  \"anyway, n=%i\" % int(n))\n"
     ]
    }
   ],
   "source": [
    "import statsmodels.api as sm\n",
    "model = sm.OLS(y_GD,x_GD)\n",
    "results = model.fit()\n",
    "print(results.summary())"
   ]
  },
  {
   "cell_type": "code",
   "execution_count": null,
   "metadata": {},
   "outputs": [],
   "source": []
  },
  {
   "cell_type": "code",
   "execution_count": null,
   "metadata": {},
   "outputs": [],
   "source": []
  },
  {
   "cell_type": "code",
   "execution_count": null,
   "metadata": {},
   "outputs": [],
   "source": []
  }
 ],
 "metadata": {
  "kernelspec": {
   "display_name": "Python 3",
   "language": "python",
   "name": "python3"
  },
  "language_info": {
   "codemirror_mode": {
    "name": "ipython",
    "version": 3
   },
   "file_extension": ".py",
   "mimetype": "text/x-python",
   "name": "python",
   "nbconvert_exporter": "python",
   "pygments_lexer": "ipython3",
   "version": "3.6.4"
  }
 },
 "nbformat": 4,
 "nbformat_minor": 2
}
